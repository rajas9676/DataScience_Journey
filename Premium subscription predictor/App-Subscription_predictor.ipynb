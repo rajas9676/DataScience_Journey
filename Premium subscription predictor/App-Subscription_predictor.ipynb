{
 "cells": [
  {
   "cell_type": "markdown",
   "id": "capable-matrix",
   "metadata": {},
   "source": [
    "## Given access to free trial with selected features for use in 24 hours, following model would analyze the free trial usage behavior and predict the scope for premium subscription"
   ]
  },
  {
   "cell_type": "markdown",
   "id": "welcome-gathering",
   "metadata": {},
   "source": [
    "## IMPORT DEPENDENCIES"
   ]
  },
  {
   "cell_type": "code",
   "execution_count": 1,
   "id": "minimal-watch",
   "metadata": {},
   "outputs": [],
   "source": [
    "import pandas as pd\n",
    "import numpy as np\n",
    "import matplotlib.pyplot as plt\n",
    "import seaborn as sn\n",
    "from dateutil import parser"
   ]
  },
  {
   "cell_type": "code",
   "execution_count": 2,
   "id": "toxic-investor",
   "metadata": {},
   "outputs": [],
   "source": [
    "input_data = pd.read_csv('appdata10.csv')"
   ]
  },
  {
   "cell_type": "code",
   "execution_count": 3,
   "id": "better-canberra",
   "metadata": {},
   "outputs": [
    {
     "data": {
      "text/html": [
       "<div>\n",
       "<style scoped>\n",
       "    .dataframe tbody tr th:only-of-type {\n",
       "        vertical-align: middle;\n",
       "    }\n",
       "\n",
       "    .dataframe tbody tr th {\n",
       "        vertical-align: top;\n",
       "    }\n",
       "\n",
       "    .dataframe thead th {\n",
       "        text-align: right;\n",
       "    }\n",
       "</style>\n",
       "<table border=\"1\" class=\"dataframe\">\n",
       "  <thead>\n",
       "    <tr style=\"text-align: right;\">\n",
       "      <th></th>\n",
       "      <th>user</th>\n",
       "      <th>first_open</th>\n",
       "      <th>dayofweek</th>\n",
       "      <th>hour</th>\n",
       "      <th>age</th>\n",
       "      <th>screen_list</th>\n",
       "      <th>numscreens</th>\n",
       "      <th>minigame</th>\n",
       "      <th>used_premium_feature</th>\n",
       "      <th>enrolled</th>\n",
       "      <th>enrolled_date</th>\n",
       "      <th>liked</th>\n",
       "    </tr>\n",
       "  </thead>\n",
       "  <tbody>\n",
       "    <tr>\n",
       "      <th>0</th>\n",
       "      <td>235136</td>\n",
       "      <td>2012-12-27 02:14:51.273</td>\n",
       "      <td>3</td>\n",
       "      <td>02:00:00</td>\n",
       "      <td>23</td>\n",
       "      <td>idscreen,joinscreen,Cycle,product_review,ScanP...</td>\n",
       "      <td>15</td>\n",
       "      <td>0</td>\n",
       "      <td>0</td>\n",
       "      <td>0</td>\n",
       "      <td>NaN</td>\n",
       "      <td>0</td>\n",
       "    </tr>\n",
       "    <tr>\n",
       "      <th>1</th>\n",
       "      <td>333588</td>\n",
       "      <td>2012-12-02 01:16:00.905</td>\n",
       "      <td>6</td>\n",
       "      <td>01:00:00</td>\n",
       "      <td>24</td>\n",
       "      <td>joinscreen,product_review,product_review2,Scan...</td>\n",
       "      <td>13</td>\n",
       "      <td>0</td>\n",
       "      <td>0</td>\n",
       "      <td>0</td>\n",
       "      <td>NaN</td>\n",
       "      <td>0</td>\n",
       "    </tr>\n",
       "    <tr>\n",
       "      <th>2</th>\n",
       "      <td>254414</td>\n",
       "      <td>2013-03-19 19:19:09.157</td>\n",
       "      <td>1</td>\n",
       "      <td>19:00:00</td>\n",
       "      <td>23</td>\n",
       "      <td>Splash,Cycle,Loan</td>\n",
       "      <td>3</td>\n",
       "      <td>0</td>\n",
       "      <td>1</td>\n",
       "      <td>0</td>\n",
       "      <td>NaN</td>\n",
       "      <td>1</td>\n",
       "    </tr>\n",
       "    <tr>\n",
       "      <th>3</th>\n",
       "      <td>234192</td>\n",
       "      <td>2013-07-05 16:08:46.354</td>\n",
       "      <td>4</td>\n",
       "      <td>16:00:00</td>\n",
       "      <td>28</td>\n",
       "      <td>product_review,Home,product_review,Loan3,Finan...</td>\n",
       "      <td>40</td>\n",
       "      <td>0</td>\n",
       "      <td>0</td>\n",
       "      <td>1</td>\n",
       "      <td>2013-07-05 16:11:49.513</td>\n",
       "      <td>0</td>\n",
       "    </tr>\n",
       "    <tr>\n",
       "      <th>4</th>\n",
       "      <td>51549</td>\n",
       "      <td>2013-02-26 18:50:48.661</td>\n",
       "      <td>1</td>\n",
       "      <td>18:00:00</td>\n",
       "      <td>31</td>\n",
       "      <td>idscreen,joinscreen,Cycle,Credit3Container,Sca...</td>\n",
       "      <td>32</td>\n",
       "      <td>0</td>\n",
       "      <td>0</td>\n",
       "      <td>1</td>\n",
       "      <td>2013-02-26 18:56:37.841</td>\n",
       "      <td>1</td>\n",
       "    </tr>\n",
       "  </tbody>\n",
       "</table>\n",
       "</div>"
      ],
      "text/plain": [
       "     user               first_open  dayofweek       hour  age  \\\n",
       "0  235136  2012-12-27 02:14:51.273          3   02:00:00   23   \n",
       "1  333588  2012-12-02 01:16:00.905          6   01:00:00   24   \n",
       "2  254414  2013-03-19 19:19:09.157          1   19:00:00   23   \n",
       "3  234192  2013-07-05 16:08:46.354          4   16:00:00   28   \n",
       "4   51549  2013-02-26 18:50:48.661          1   18:00:00   31   \n",
       "\n",
       "                                         screen_list  numscreens  minigame  \\\n",
       "0  idscreen,joinscreen,Cycle,product_review,ScanP...          15         0   \n",
       "1  joinscreen,product_review,product_review2,Scan...          13         0   \n",
       "2                                  Splash,Cycle,Loan           3         0   \n",
       "3  product_review,Home,product_review,Loan3,Finan...          40         0   \n",
       "4  idscreen,joinscreen,Cycle,Credit3Container,Sca...          32         0   \n",
       "\n",
       "   used_premium_feature  enrolled            enrolled_date  liked  \n",
       "0                     0         0                      NaN      0  \n",
       "1                     0         0                      NaN      0  \n",
       "2                     1         0                      NaN      1  \n",
       "3                     0         1  2013-07-05 16:11:49.513      0  \n",
       "4                     0         1  2013-02-26 18:56:37.841      1  "
      ]
     },
     "execution_count": 3,
     "metadata": {},
     "output_type": "execute_result"
    }
   ],
   "source": [
    "input_data.head()"
   ]
  },
  {
   "cell_type": "code",
   "execution_count": 4,
   "id": "sweet-niagara",
   "metadata": {},
   "outputs": [
    {
     "data": {
      "text/html": [
       "<div>\n",
       "<style scoped>\n",
       "    .dataframe tbody tr th:only-of-type {\n",
       "        vertical-align: middle;\n",
       "    }\n",
       "\n",
       "    .dataframe tbody tr th {\n",
       "        vertical-align: top;\n",
       "    }\n",
       "\n",
       "    .dataframe thead th {\n",
       "        text-align: right;\n",
       "    }\n",
       "</style>\n",
       "<table border=\"1\" class=\"dataframe\">\n",
       "  <thead>\n",
       "    <tr style=\"text-align: right;\">\n",
       "      <th></th>\n",
       "      <th>user</th>\n",
       "      <th>dayofweek</th>\n",
       "      <th>age</th>\n",
       "      <th>numscreens</th>\n",
       "      <th>minigame</th>\n",
       "      <th>used_premium_feature</th>\n",
       "      <th>enrolled</th>\n",
       "      <th>liked</th>\n",
       "    </tr>\n",
       "  </thead>\n",
       "  <tbody>\n",
       "    <tr>\n",
       "      <th>count</th>\n",
       "      <td>50000.000000</td>\n",
       "      <td>50000.000000</td>\n",
       "      <td>50000.00000</td>\n",
       "      <td>50000.000000</td>\n",
       "      <td>50000.000000</td>\n",
       "      <td>50000.000000</td>\n",
       "      <td>50000.000000</td>\n",
       "      <td>50000.000000</td>\n",
       "    </tr>\n",
       "    <tr>\n",
       "      <th>mean</th>\n",
       "      <td>186889.729900</td>\n",
       "      <td>3.029860</td>\n",
       "      <td>31.72436</td>\n",
       "      <td>21.095900</td>\n",
       "      <td>0.107820</td>\n",
       "      <td>0.172020</td>\n",
       "      <td>0.621480</td>\n",
       "      <td>0.165000</td>\n",
       "    </tr>\n",
       "    <tr>\n",
       "      <th>std</th>\n",
       "      <td>107768.520361</td>\n",
       "      <td>2.031997</td>\n",
       "      <td>10.80331</td>\n",
       "      <td>15.728812</td>\n",
       "      <td>0.310156</td>\n",
       "      <td>0.377402</td>\n",
       "      <td>0.485023</td>\n",
       "      <td>0.371184</td>\n",
       "    </tr>\n",
       "    <tr>\n",
       "      <th>min</th>\n",
       "      <td>13.000000</td>\n",
       "      <td>0.000000</td>\n",
       "      <td>16.00000</td>\n",
       "      <td>1.000000</td>\n",
       "      <td>0.000000</td>\n",
       "      <td>0.000000</td>\n",
       "      <td>0.000000</td>\n",
       "      <td>0.000000</td>\n",
       "    </tr>\n",
       "    <tr>\n",
       "      <th>25%</th>\n",
       "      <td>93526.750000</td>\n",
       "      <td>1.000000</td>\n",
       "      <td>24.00000</td>\n",
       "      <td>10.000000</td>\n",
       "      <td>0.000000</td>\n",
       "      <td>0.000000</td>\n",
       "      <td>0.000000</td>\n",
       "      <td>0.000000</td>\n",
       "    </tr>\n",
       "    <tr>\n",
       "      <th>50%</th>\n",
       "      <td>187193.500000</td>\n",
       "      <td>3.000000</td>\n",
       "      <td>29.00000</td>\n",
       "      <td>18.000000</td>\n",
       "      <td>0.000000</td>\n",
       "      <td>0.000000</td>\n",
       "      <td>1.000000</td>\n",
       "      <td>0.000000</td>\n",
       "    </tr>\n",
       "    <tr>\n",
       "      <th>75%</th>\n",
       "      <td>279984.250000</td>\n",
       "      <td>5.000000</td>\n",
       "      <td>37.00000</td>\n",
       "      <td>28.000000</td>\n",
       "      <td>0.000000</td>\n",
       "      <td>0.000000</td>\n",
       "      <td>1.000000</td>\n",
       "      <td>0.000000</td>\n",
       "    </tr>\n",
       "    <tr>\n",
       "      <th>max</th>\n",
       "      <td>373662.000000</td>\n",
       "      <td>6.000000</td>\n",
       "      <td>101.00000</td>\n",
       "      <td>325.000000</td>\n",
       "      <td>1.000000</td>\n",
       "      <td>1.000000</td>\n",
       "      <td>1.000000</td>\n",
       "      <td>1.000000</td>\n",
       "    </tr>\n",
       "  </tbody>\n",
       "</table>\n",
       "</div>"
      ],
      "text/plain": [
       "                user     dayofweek          age    numscreens      minigame  \\\n",
       "count   50000.000000  50000.000000  50000.00000  50000.000000  50000.000000   \n",
       "mean   186889.729900      3.029860     31.72436     21.095900      0.107820   \n",
       "std    107768.520361      2.031997     10.80331     15.728812      0.310156   \n",
       "min        13.000000      0.000000     16.00000      1.000000      0.000000   \n",
       "25%     93526.750000      1.000000     24.00000     10.000000      0.000000   \n",
       "50%    187193.500000      3.000000     29.00000     18.000000      0.000000   \n",
       "75%    279984.250000      5.000000     37.00000     28.000000      0.000000   \n",
       "max    373662.000000      6.000000    101.00000    325.000000      1.000000   \n",
       "\n",
       "       used_premium_feature      enrolled         liked  \n",
       "count          50000.000000  50000.000000  50000.000000  \n",
       "mean               0.172020      0.621480      0.165000  \n",
       "std                0.377402      0.485023      0.371184  \n",
       "min                0.000000      0.000000      0.000000  \n",
       "25%                0.000000      0.000000      0.000000  \n",
       "50%                0.000000      1.000000      0.000000  \n",
       "75%                0.000000      1.000000      0.000000  \n",
       "max                1.000000      1.000000      1.000000  "
      ]
     },
     "execution_count": 4,
     "metadata": {},
     "output_type": "execute_result"
    }
   ],
   "source": [
    "input_data.describe()"
   ]
  },
  {
   "cell_type": "code",
   "execution_count": 5,
   "id": "vocational-threat",
   "metadata": {},
   "outputs": [],
   "source": [
    "# convert date from string to numerical format\n",
    "input_data['hour'] = input_data.hour.str.slice(1,3).astype(int)"
   ]
  },
  {
   "cell_type": "code",
   "execution_count": 6,
   "id": "protective-aberdeen",
   "metadata": {},
   "outputs": [
    {
     "data": {
      "text/html": [
       "<div>\n",
       "<style scoped>\n",
       "    .dataframe tbody tr th:only-of-type {\n",
       "        vertical-align: middle;\n",
       "    }\n",
       "\n",
       "    .dataframe tbody tr th {\n",
       "        vertical-align: top;\n",
       "    }\n",
       "\n",
       "    .dataframe thead th {\n",
       "        text-align: right;\n",
       "    }\n",
       "</style>\n",
       "<table border=\"1\" class=\"dataframe\">\n",
       "  <thead>\n",
       "    <tr style=\"text-align: right;\">\n",
       "      <th></th>\n",
       "      <th>user</th>\n",
       "      <th>first_open</th>\n",
       "      <th>dayofweek</th>\n",
       "      <th>hour</th>\n",
       "      <th>age</th>\n",
       "      <th>screen_list</th>\n",
       "      <th>numscreens</th>\n",
       "      <th>minigame</th>\n",
       "      <th>used_premium_feature</th>\n",
       "      <th>enrolled</th>\n",
       "      <th>enrolled_date</th>\n",
       "      <th>liked</th>\n",
       "    </tr>\n",
       "  </thead>\n",
       "  <tbody>\n",
       "    <tr>\n",
       "      <th>49995</th>\n",
       "      <td>222774</td>\n",
       "      <td>2013-05-09 13:46:17.871</td>\n",
       "      <td>3</td>\n",
       "      <td>13</td>\n",
       "      <td>32</td>\n",
       "      <td>Splash,Home,ScanPreview,VerifyPhone,VerifySSN,...</td>\n",
       "      <td>13</td>\n",
       "      <td>0</td>\n",
       "      <td>0</td>\n",
       "      <td>1</td>\n",
       "      <td>2013-05-09 13:47:52.875</td>\n",
       "      <td>0</td>\n",
       "    </tr>\n",
       "    <tr>\n",
       "      <th>49996</th>\n",
       "      <td>169179</td>\n",
       "      <td>2013-04-09 00:05:17.823</td>\n",
       "      <td>1</td>\n",
       "      <td>0</td>\n",
       "      <td>35</td>\n",
       "      <td>Cycle,Splash,Home,RewardsContainer</td>\n",
       "      <td>4</td>\n",
       "      <td>0</td>\n",
       "      <td>1</td>\n",
       "      <td>0</td>\n",
       "      <td>NaN</td>\n",
       "      <td>0</td>\n",
       "    </tr>\n",
       "    <tr>\n",
       "      <th>49997</th>\n",
       "      <td>302367</td>\n",
       "      <td>2013-02-20 22:41:51.165</td>\n",
       "      <td>2</td>\n",
       "      <td>22</td>\n",
       "      <td>39</td>\n",
       "      <td>joinscreen,product_review,product_review2,Scan...</td>\n",
       "      <td>25</td>\n",
       "      <td>0</td>\n",
       "      <td>0</td>\n",
       "      <td>0</td>\n",
       "      <td>NaN</td>\n",
       "      <td>0</td>\n",
       "    </tr>\n",
       "    <tr>\n",
       "      <th>49998</th>\n",
       "      <td>324905</td>\n",
       "      <td>2013-04-28 12:33:04.288</td>\n",
       "      <td>6</td>\n",
       "      <td>12</td>\n",
       "      <td>27</td>\n",
       "      <td>Cycle,Home,product_review,product_review,produ...</td>\n",
       "      <td>26</td>\n",
       "      <td>0</td>\n",
       "      <td>0</td>\n",
       "      <td>1</td>\n",
       "      <td>2013-04-28 12:35:38.709</td>\n",
       "      <td>0</td>\n",
       "    </tr>\n",
       "    <tr>\n",
       "      <th>49999</th>\n",
       "      <td>27047</td>\n",
       "      <td>2012-12-14 01:22:44.638</td>\n",
       "      <td>4</td>\n",
       "      <td>1</td>\n",
       "      <td>25</td>\n",
       "      <td>product_review,ScanPreview,VerifyDateOfBirth,V...</td>\n",
       "      <td>26</td>\n",
       "      <td>0</td>\n",
       "      <td>0</td>\n",
       "      <td>0</td>\n",
       "      <td>NaN</td>\n",
       "      <td>1</td>\n",
       "    </tr>\n",
       "  </tbody>\n",
       "</table>\n",
       "</div>"
      ],
      "text/plain": [
       "         user               first_open  dayofweek  hour  age  \\\n",
       "49995  222774  2013-05-09 13:46:17.871          3    13   32   \n",
       "49996  169179  2013-04-09 00:05:17.823          1     0   35   \n",
       "49997  302367  2013-02-20 22:41:51.165          2    22   39   \n",
       "49998  324905  2013-04-28 12:33:04.288          6    12   27   \n",
       "49999   27047  2012-12-14 01:22:44.638          4     1   25   \n",
       "\n",
       "                                             screen_list  numscreens  \\\n",
       "49995  Splash,Home,ScanPreview,VerifyPhone,VerifySSN,...          13   \n",
       "49996                 Cycle,Splash,Home,RewardsContainer           4   \n",
       "49997  joinscreen,product_review,product_review2,Scan...          25   \n",
       "49998  Cycle,Home,product_review,product_review,produ...          26   \n",
       "49999  product_review,ScanPreview,VerifyDateOfBirth,V...          26   \n",
       "\n",
       "       minigame  used_premium_feature  enrolled            enrolled_date  \\\n",
       "49995         0                     0         1  2013-05-09 13:47:52.875   \n",
       "49996         0                     1         0                      NaN   \n",
       "49997         0                     0         0                      NaN   \n",
       "49998         0                     0         1  2013-04-28 12:35:38.709   \n",
       "49999         0                     0         0                      NaN   \n",
       "\n",
       "       liked  \n",
       "49995      0  \n",
       "49996      0  \n",
       "49997      0  \n",
       "49998      0  \n",
       "49999      1  "
      ]
     },
     "execution_count": 6,
     "metadata": {},
     "output_type": "execute_result"
    }
   ],
   "source": [
    "input_data.tail()"
   ]
  },
  {
   "cell_type": "code",
   "execution_count": 7,
   "id": "willing-filing",
   "metadata": {},
   "outputs": [],
   "source": [
    "# remove the following columns for visualizing the dataset\n",
    "remove_col = ['user', 'screen_list', 'enrolled_date', 'first_open', 'enrolled']\n",
    "dataset = input_data.copy().drop(columns = remove_col)"
   ]
  },
  {
   "cell_type": "markdown",
   "id": "limiting-march",
   "metadata": {},
   "source": [
    "## DATA VISUALIZATION"
   ]
  },
  {
   "cell_type": "code",
   "execution_count": 8,
   "id": "mineral-investor",
   "metadata": {},
   "outputs": [
    {
     "data": {
      "text/plain": [
       "<Figure size 432x288 with 0 Axes>"
      ]
     },
     "metadata": {},
     "output_type": "display_data"
    },
    {
     "data": {
      "image/png": "[encoded data removed]",
      "text/plain": [
       "<Figure size 1800x1080 with 7 Axes>"
      ]
     },
     "metadata": {
      "needs_background": "light"
     },
     "output_type": "display_data"
    }
   ],
   "source": [
    "plt.suptitle('Histogram display of Numerical columns', fontsize = 20)\n",
    "plt.figure(figsize=(25,15))\n",
    "for i in range(1, dataset.shape[1] + 1):\n",
    "    plt.subplot(3, 3, i)\n",
    "    f = plt.gca()\n",
    "    f.set_title(dataset.columns.values[i-1])\n",
    "    vals = np.size(dataset.iloc[:, i-1].unique())\n",
    "    plt.hist(dataset.iloc[:, i-1], bins=vals, color='#AB07AD')"
   ]
  },
  {
   "cell_type": "markdown",
   "id": "correct-regard",
   "metadata": {},
   "source": [
    "## PAIRPLOT"
   ]
  },
  {
   "cell_type": "code",
   "execution_count": null,
   "id": "spatial-threat",
   "metadata": {},
   "outputs": [],
   "source": []
  },
  {
   "cell_type": "code",
   "execution_count": null,
   "id": "corporate-thumbnail",
   "metadata": {},
   "outputs": [],
   "source": []
  },
  {
   "cell_type": "code",
   "execution_count": null,
   "id": "alive-regard",
   "metadata": {},
   "outputs": [],
   "source": []
  },
  {
   "cell_type": "code",
   "execution_count": null,
   "id": "mysterious-criterion",
   "metadata": {},
   "outputs": [],
   "source": []
  },
  {
   "cell_type": "code",
   "execution_count": null,
   "id": "laughing-upgrade",
   "metadata": {},
   "outputs": [],
   "source": []
  },
  {
   "cell_type": "markdown",
   "id": "lyric-priority",
   "metadata": {},
   "source": [
    "## CORRELATION WITH RESPONSE VARIABLE"
   ]
  },
  {
   "cell_type": "code",
   "execution_count": 9,
   "id": "smart-letter",
   "metadata": {},
   "outputs": [
    {
     "data": {
      "text/plain": [
       "<AxesSubplot:title={'center':'correlation with response variable'}>"
      ]
     },
     "execution_count": 9,
     "metadata": {},
     "output_type": "execute_result"
    },
    {
     "data": {
      "image/png": "[encoded data removed]",
      "text/plain": [
       "<Figure size 1800x720 with 1 Axes>"
      ]
     },
     "metadata": {
      "needs_background": "light"
     },
     "output_type": "display_data"
    }
   ],
   "source": [
    "dataset.corrwith(input_data.enrolled).plot.bar(figsize=(25,10),\n",
    "                                           title = 'correlation with response variable',\n",
    "                                           fontsize=20, rot=0,\n",
    "                                           grid=False,\n",
    "                                           color=['red', 'blue', 'green', 'purple', 'orange', 'pink', 'black']\n",
    "                                       )"
   ]
  },
  {
   "cell_type": "markdown",
   "id": "simple-printing",
   "metadata": {},
   "source": [
    "## CORRELATION MATRIX"
   ]
  },
  {
   "cell_type": "code",
   "execution_count": 10,
   "id": "friendly-zambia",
   "metadata": {},
   "outputs": [
    {
     "data": {
      "text/plain": [
       "<AxesSubplot:>"
      ]
     },
     "execution_count": 10,
     "metadata": {},
     "output_type": "execute_result"
    },
    {
     "data": {
      "image/png": "[encoded data removed]",
      "text/plain": [
       "<Figure size 1440x720 with 2 Axes>"
      ]
     },
     "metadata": {
      "needs_background": "light"
     },
     "output_type": "display_data"
    }
   ],
   "source": [
    "plt.figure(figsize=(20,10))\n",
    "sn.set(style='white', font_scale=2)\n",
    "# remove the symmetric portion of the martix from heatmap\n",
    "mask = np.zeros_like(dataset.corr(), dtype=np.bool)\n",
    "mask[np.triu_indices_from(mask)] = True\n",
    "sn.heatmap(dataset.corr(), mask=mask, annot=True)"
   ]
  },
  {
   "cell_type": "code",
   "execution_count": 11,
   "id": "weird-upset",
   "metadata": {},
   "outputs": [],
   "source": [
    "# sn.pairplot(data=input_data, hue='enrolled', vars=dataset.columns)"
   ]
  },
  {
   "cell_type": "code",
   "execution_count": 12,
   "id": "recognized-indonesia",
   "metadata": {},
   "outputs": [],
   "source": [
    "input_data['first_open'] = [parser.parse(row_data) for row_data in input_data['first_open']]\n",
    "input_data['enrolled_date'] = [parser.parse(row_data) if isinstance(row_data, str) else row_data for row_data in input_data['enrolled_date']]\n",
    "input_data['difference'] = (input_data.enrolled_date - input_data.first_open).astype('timedelta64[h]')"
   ]
  },
  {
   "cell_type": "code",
   "execution_count": 13,
   "id": "disturbed-cancellation",
   "metadata": {},
   "outputs": [
    {
     "data": {
      "text/plain": [
       "Text(0.5, 1.0, 'distribution of time since enrolled')"
      ]
     },
     "execution_count": 13,
     "metadata": {},
     "output_type": "execute_result"
    },
    {
     "data": {
      "image/png": "[encoded data removed]",
      "text/plain": [
       "<Figure size 1800x1440 with 1 Axes>"
      ]
     },
     "metadata": {},
     "output_type": "display_data"
    }
   ],
   "source": [
    "plt.figure(figsize=(25,20))\n",
    "plt.hist(input_data['difference'].dropna(), color='#3F5D7D')\n",
    "plt.title('distribution of time since enrolled')\n"
   ]
  },
  {
   "cell_type": "code",
   "execution_count": 14,
   "id": "given-cosmetic",
   "metadata": {},
   "outputs": [],
   "source": [
    "input_data.loc[input_data.difference > 48, 'enrolled'] =0"
   ]
  },
  {
   "cell_type": "code",
   "execution_count": 15,
   "id": "played-robert",
   "metadata": {},
   "outputs": [],
   "source": [
    "input_data = input_data.drop(columns = ['difference', 'enrolled_date', 'first_open'])"
   ]
  },
  {
   "cell_type": "markdown",
   "id": "double-study",
   "metadata": {},
   "source": [
    "## FEATURE ENGINEERING - SELECT TOP SCREENS"
   ]
  },
  {
   "cell_type": "code",
   "execution_count": 16,
   "id": "ecological-council",
   "metadata": {},
   "outputs": [],
   "source": [
    "top_screens = pd.read_csv('top_screens.csv').top_screens.values"
   ]
  },
  {
   "cell_type": "code",
   "execution_count": 17,
   "id": "dress-cambodia",
   "metadata": {},
   "outputs": [],
   "source": [
    "input_data['screen_list'] = input_data.screen_list.astype(str) + ','\n",
    "for sc in top_screens:\n",
    "    input_data[sc] = input_data.screen_list.str.contains(sc).astype(int)\n",
    "    input_data['screen_list'] = input_data.screen_list.str.replace(sc+\",\", \"\")\n",
    "input_data['other'] = input_data.screen_list.str.count(',')\n",
    "input_data = input_data.drop(columns=['screen_list'])"
   ]
  },
  {
   "cell_type": "code",
   "execution_count": 18,
   "id": "framed-arbor",
   "metadata": {},
   "outputs": [
    {
     "data": {
      "text/plain": [
       "Index(['user', 'dayofweek', 'hour', 'age', 'numscreens', 'minigame',\n",
       "       'used_premium_feature', 'enrolled', 'liked', 'Loan2', 'location',\n",
       "       'Institutions', 'Credit3Container', 'VerifyPhone', 'BankVerification',\n",
       "       'VerifyDateOfBirth', 'ProfilePage', 'VerifyCountry', 'Cycle',\n",
       "       'idscreen', 'Credit3Dashboard', 'Loan3', 'CC1Category', 'Splash',\n",
       "       'Loan', 'CC1', 'RewardsContainer', 'Credit3', 'Credit1', 'EditProfile',\n",
       "       'Credit2', 'Finances', 'CC3', 'Saving9', 'Saving1', 'Alerts', 'Saving8',\n",
       "       'Saving10', 'Leaderboard', 'Saving4', 'VerifyMobile', 'VerifyHousing',\n",
       "       'RewardDetail', 'VerifyHousingAmount', 'ProfileMaritalStatus',\n",
       "       'ProfileChildren ', 'ProfileEducation', 'Saving7',\n",
       "       'ProfileEducationMajor', 'Rewards', 'AccountView', 'VerifyAnnualIncome',\n",
       "       'VerifyIncomeType', 'Saving2', 'Saving6', 'Saving2Amount', 'Saving5',\n",
       "       'ProfileJobTitle', 'Login', 'ProfileEmploymentLength', 'WebView',\n",
       "       'SecurityModal', 'Loan4', 'ResendToken', 'TransactionList',\n",
       "       'NetworkFailure', 'ListPicker', 'other'],\n",
       "      dtype='object')"
      ]
     },
     "execution_count": 18,
     "metadata": {},
     "output_type": "execute_result"
    }
   ],
   "source": [
    "input_data.columns"
   ]
  },
  {
   "cell_type": "markdown",
   "id": "direct-growing",
   "metadata": {},
   "source": [
    "## FUNNELS - GROUP SIMILAR SCREENS AND GET THE COUNT"
   ]
  },
  {
   "cell_type": "code",
   "execution_count": 20,
   "id": "focal-reason",
   "metadata": {},
   "outputs": [],
   "source": [
    "savings_cols = []\n",
    "for i in input_data.columns:\n",
    "    if i.startswith('Saving'):\n",
    "        savings_cols.append(i)"
   ]
  },
  {
   "cell_type": "code",
   "execution_count": 24,
   "id": "diverse-validity",
   "metadata": {},
   "outputs": [],
   "source": [
    "input_data['SavingsCount'] = input_data[savings_cols].sum(axis=1)\n",
    "input_data = input_data.drop(columns=savings_cols)"
   ]
  },
  {
   "cell_type": "code",
   "execution_count": 23,
   "id": "unlikely-square",
   "metadata": {},
   "outputs": [
    {
     "name": "stdout",
     "output_type": "stream",
     "text": [
      "['Saving9', 'Saving1', 'Saving8', 'Saving10', 'Saving4', 'Saving7', 'Saving2', 'Saving6', 'Saving2Amount', 'Saving5']\n"
     ]
    }
   ],
   "source": [
    "print(savings_cols)"
   ]
  },
  {
   "cell_type": "code",
   "execution_count": 26,
   "id": "perceived-singing",
   "metadata": {},
   "outputs": [],
   "source": [
    "cm_cols = [cm for cm in input_data.columns if cm.startswith('Credit')]"
   ]
  },
  {
   "cell_type": "code",
   "execution_count": 28,
   "id": "julian-factory",
   "metadata": {},
   "outputs": [],
   "source": [
    "loan_cols = [loan for loan in input_data.columns if loan.startswith('Loan')]"
   ]
  },
  {
   "cell_type": "code",
   "execution_count": 29,
   "id": "occasional-scholarship",
   "metadata": {},
   "outputs": [],
   "source": [
    "cc_cols = [cc for cc in input_data.columns if cc.startswith('CC')]"
   ]
  },
  {
   "cell_type": "code",
   "execution_count": 30,
   "id": "sonic-impact",
   "metadata": {},
   "outputs": [],
   "source": [
    "drop_cols = cm_cols + loan_cols + cc_cols"
   ]
  },
  {
   "cell_type": "code",
   "execution_count": 32,
   "id": "secret-replica",
   "metadata": {},
   "outputs": [],
   "source": [
    "input_data = input_data.drop(columns=drop_cols)"
   ]
  },
  {
   "cell_type": "code",
   "execution_count": 33,
   "id": "geographic-empire",
   "metadata": {},
   "outputs": [],
   "source": [
    "input_data.to_csv('new_subdata.csv', index=False)"
   ]
  },
  {
   "cell_type": "markdown",
   "id": "united-adrian",
   "metadata": {},
   "source": [
    "## DATA PRE-PROCESSING"
   ]
  },
  {
   "cell_type": "code",
   "execution_count": 34,
   "id": "sufficient-wildlife",
   "metadata": {},
   "outputs": [],
   "source": [
    "dataset = pd.read_csv('new_subdata.csv')"
   ]
  },
  {
   "cell_type": "code",
   "execution_count": 35,
   "id": "bridal-moral",
   "metadata": {},
   "outputs": [],
   "source": [
    "response = dataset['enrolled']"
   ]
  },
  {
   "cell_type": "code",
   "execution_count": 36,
   "id": "yellow-university",
   "metadata": {},
   "outputs": [
    {
     "data": {
      "text/html": [
       "<div>\n",
       "<style scoped>\n",
       "    .dataframe tbody tr th:only-of-type {\n",
       "        vertical-align: middle;\n",
       "    }\n",
       "\n",
       "    .dataframe tbody tr th {\n",
       "        vertical-align: top;\n",
       "    }\n",
       "\n",
       "    .dataframe thead th {\n",
       "        text-align: right;\n",
       "    }\n",
       "</style>\n",
       "<table border=\"1\" class=\"dataframe\">\n",
       "  <thead>\n",
       "    <tr style=\"text-align: right;\">\n",
       "      <th></th>\n",
       "      <th>user</th>\n",
       "      <th>dayofweek</th>\n",
       "      <th>hour</th>\n",
       "      <th>age</th>\n",
       "      <th>numscreens</th>\n",
       "      <th>minigame</th>\n",
       "      <th>used_premium_feature</th>\n",
       "      <th>liked</th>\n",
       "      <th>location</th>\n",
       "      <th>Institutions</th>\n",
       "      <th>...</th>\n",
       "      <th>Login</th>\n",
       "      <th>ProfileEmploymentLength</th>\n",
       "      <th>WebView</th>\n",
       "      <th>SecurityModal</th>\n",
       "      <th>ResendToken</th>\n",
       "      <th>TransactionList</th>\n",
       "      <th>NetworkFailure</th>\n",
       "      <th>ListPicker</th>\n",
       "      <th>other</th>\n",
       "      <th>SavingsCount</th>\n",
       "    </tr>\n",
       "  </thead>\n",
       "  <tbody>\n",
       "    <tr>\n",
       "      <th>0</th>\n",
       "      <td>235136</td>\n",
       "      <td>3</td>\n",
       "      <td>2</td>\n",
       "      <td>23</td>\n",
       "      <td>15</td>\n",
       "      <td>0</td>\n",
       "      <td>0</td>\n",
       "      <td>0</td>\n",
       "      <td>0</td>\n",
       "      <td>0</td>\n",
       "      <td>...</td>\n",
       "      <td>1</td>\n",
       "      <td>0</td>\n",
       "      <td>0</td>\n",
       "      <td>0</td>\n",
       "      <td>0</td>\n",
       "      <td>0</td>\n",
       "      <td>0</td>\n",
       "      <td>0</td>\n",
       "      <td>7</td>\n",
       "      <td>0</td>\n",
       "    </tr>\n",
       "    <tr>\n",
       "      <th>1</th>\n",
       "      <td>333588</td>\n",
       "      <td>6</td>\n",
       "      <td>1</td>\n",
       "      <td>24</td>\n",
       "      <td>13</td>\n",
       "      <td>0</td>\n",
       "      <td>0</td>\n",
       "      <td>0</td>\n",
       "      <td>1</td>\n",
       "      <td>1</td>\n",
       "      <td>...</td>\n",
       "      <td>0</td>\n",
       "      <td>0</td>\n",
       "      <td>0</td>\n",
       "      <td>0</td>\n",
       "      <td>0</td>\n",
       "      <td>0</td>\n",
       "      <td>0</td>\n",
       "      <td>0</td>\n",
       "      <td>5</td>\n",
       "      <td>0</td>\n",
       "    </tr>\n",
       "    <tr>\n",
       "      <th>2</th>\n",
       "      <td>254414</td>\n",
       "      <td>1</td>\n",
       "      <td>19</td>\n",
       "      <td>23</td>\n",
       "      <td>3</td>\n",
       "      <td>0</td>\n",
       "      <td>1</td>\n",
       "      <td>1</td>\n",
       "      <td>0</td>\n",
       "      <td>0</td>\n",
       "      <td>...</td>\n",
       "      <td>0</td>\n",
       "      <td>0</td>\n",
       "      <td>0</td>\n",
       "      <td>0</td>\n",
       "      <td>0</td>\n",
       "      <td>0</td>\n",
       "      <td>0</td>\n",
       "      <td>0</td>\n",
       "      <td>0</td>\n",
       "      <td>0</td>\n",
       "    </tr>\n",
       "    <tr>\n",
       "      <th>3</th>\n",
       "      <td>234192</td>\n",
       "      <td>4</td>\n",
       "      <td>16</td>\n",
       "      <td>28</td>\n",
       "      <td>40</td>\n",
       "      <td>0</td>\n",
       "      <td>0</td>\n",
       "      <td>0</td>\n",
       "      <td>1</td>\n",
       "      <td>0</td>\n",
       "      <td>...</td>\n",
       "      <td>0</td>\n",
       "      <td>0</td>\n",
       "      <td>0</td>\n",
       "      <td>0</td>\n",
       "      <td>0</td>\n",
       "      <td>0</td>\n",
       "      <td>0</td>\n",
       "      <td>0</td>\n",
       "      <td>6</td>\n",
       "      <td>0</td>\n",
       "    </tr>\n",
       "    <tr>\n",
       "      <th>4</th>\n",
       "      <td>51549</td>\n",
       "      <td>1</td>\n",
       "      <td>18</td>\n",
       "      <td>31</td>\n",
       "      <td>32</td>\n",
       "      <td>0</td>\n",
       "      <td>0</td>\n",
       "      <td>1</td>\n",
       "      <td>0</td>\n",
       "      <td>1</td>\n",
       "      <td>...</td>\n",
       "      <td>0</td>\n",
       "      <td>0</td>\n",
       "      <td>0</td>\n",
       "      <td>0</td>\n",
       "      <td>0</td>\n",
       "      <td>0</td>\n",
       "      <td>0</td>\n",
       "      <td>0</td>\n",
       "      <td>10</td>\n",
       "      <td>0</td>\n",
       "    </tr>\n",
       "    <tr>\n",
       "      <th>...</th>\n",
       "      <td>...</td>\n",
       "      <td>...</td>\n",
       "      <td>...</td>\n",
       "      <td>...</td>\n",
       "      <td>...</td>\n",
       "      <td>...</td>\n",
       "      <td>...</td>\n",
       "      <td>...</td>\n",
       "      <td>...</td>\n",
       "      <td>...</td>\n",
       "      <td>...</td>\n",
       "      <td>...</td>\n",
       "      <td>...</td>\n",
       "      <td>...</td>\n",
       "      <td>...</td>\n",
       "      <td>...</td>\n",
       "      <td>...</td>\n",
       "      <td>...</td>\n",
       "      <td>...</td>\n",
       "      <td>...</td>\n",
       "      <td>...</td>\n",
       "    </tr>\n",
       "    <tr>\n",
       "      <th>49995</th>\n",
       "      <td>222774</td>\n",
       "      <td>3</td>\n",
       "      <td>13</td>\n",
       "      <td>32</td>\n",
       "      <td>13</td>\n",
       "      <td>0</td>\n",
       "      <td>0</td>\n",
       "      <td>0</td>\n",
       "      <td>0</td>\n",
       "      <td>0</td>\n",
       "      <td>...</td>\n",
       "      <td>0</td>\n",
       "      <td>0</td>\n",
       "      <td>1</td>\n",
       "      <td>0</td>\n",
       "      <td>0</td>\n",
       "      <td>0</td>\n",
       "      <td>0</td>\n",
       "      <td>0</td>\n",
       "      <td>6</td>\n",
       "      <td>0</td>\n",
       "    </tr>\n",
       "    <tr>\n",
       "      <th>49996</th>\n",
       "      <td>169179</td>\n",
       "      <td>1</td>\n",
       "      <td>0</td>\n",
       "      <td>35</td>\n",
       "      <td>4</td>\n",
       "      <td>0</td>\n",
       "      <td>1</td>\n",
       "      <td>0</td>\n",
       "      <td>0</td>\n",
       "      <td>0</td>\n",
       "      <td>...</td>\n",
       "      <td>0</td>\n",
       "      <td>0</td>\n",
       "      <td>0</td>\n",
       "      <td>0</td>\n",
       "      <td>0</td>\n",
       "      <td>0</td>\n",
       "      <td>0</td>\n",
       "      <td>0</td>\n",
       "      <td>1</td>\n",
       "      <td>0</td>\n",
       "    </tr>\n",
       "    <tr>\n",
       "      <th>49997</th>\n",
       "      <td>302367</td>\n",
       "      <td>2</td>\n",
       "      <td>22</td>\n",
       "      <td>39</td>\n",
       "      <td>25</td>\n",
       "      <td>0</td>\n",
       "      <td>0</td>\n",
       "      <td>0</td>\n",
       "      <td>1</td>\n",
       "      <td>0</td>\n",
       "      <td>...</td>\n",
       "      <td>0</td>\n",
       "      <td>0</td>\n",
       "      <td>0</td>\n",
       "      <td>0</td>\n",
       "      <td>0</td>\n",
       "      <td>0</td>\n",
       "      <td>0</td>\n",
       "      <td>0</td>\n",
       "      <td>6</td>\n",
       "      <td>0</td>\n",
       "    </tr>\n",
       "    <tr>\n",
       "      <th>49998</th>\n",
       "      <td>324905</td>\n",
       "      <td>6</td>\n",
       "      <td>12</td>\n",
       "      <td>27</td>\n",
       "      <td>26</td>\n",
       "      <td>0</td>\n",
       "      <td>0</td>\n",
       "      <td>0</td>\n",
       "      <td>1</td>\n",
       "      <td>0</td>\n",
       "      <td>...</td>\n",
       "      <td>0</td>\n",
       "      <td>0</td>\n",
       "      <td>0</td>\n",
       "      <td>0</td>\n",
       "      <td>0</td>\n",
       "      <td>0</td>\n",
       "      <td>0</td>\n",
       "      <td>0</td>\n",
       "      <td>13</td>\n",
       "      <td>0</td>\n",
       "    </tr>\n",
       "    <tr>\n",
       "      <th>49999</th>\n",
       "      <td>27047</td>\n",
       "      <td>4</td>\n",
       "      <td>1</td>\n",
       "      <td>25</td>\n",
       "      <td>26</td>\n",
       "      <td>0</td>\n",
       "      <td>0</td>\n",
       "      <td>1</td>\n",
       "      <td>0</td>\n",
       "      <td>0</td>\n",
       "      <td>...</td>\n",
       "      <td>0</td>\n",
       "      <td>0</td>\n",
       "      <td>0</td>\n",
       "      <td>0</td>\n",
       "      <td>0</td>\n",
       "      <td>0</td>\n",
       "      <td>0</td>\n",
       "      <td>0</td>\n",
       "      <td>5</td>\n",
       "      <td>7</td>\n",
       "    </tr>\n",
       "  </tbody>\n",
       "</table>\n",
       "<p>50000 rows × 46 columns</p>\n",
       "</div>"
      ],
      "text/plain": [
       "         user  dayofweek  hour  age  numscreens  minigame  \\\n",
       "0      235136          3     2   23          15         0   \n",
       "1      333588          6     1   24          13         0   \n",
       "2      254414          1    19   23           3         0   \n",
       "3      234192          4    16   28          40         0   \n",
       "4       51549          1    18   31          32         0   \n",
       "...       ...        ...   ...  ...         ...       ...   \n",
       "49995  222774          3    13   32          13         0   \n",
       "49996  169179          1     0   35           4         0   \n",
       "49997  302367          2    22   39          25         0   \n",
       "49998  324905          6    12   27          26         0   \n",
       "49999   27047          4     1   25          26         0   \n",
       "\n",
       "       used_premium_feature  liked  location  Institutions  ...  Login  \\\n",
       "0                         0      0         0             0  ...      1   \n",
       "1                         0      0         1             1  ...      0   \n",
       "2                         1      1         0             0  ...      0   \n",
       "3                         0      0         1             0  ...      0   \n",
       "4                         0      1         0             1  ...      0   \n",
       "...                     ...    ...       ...           ...  ...    ...   \n",
       "49995                     0      0         0             0  ...      0   \n",
       "49996                     1      0         0             0  ...      0   \n",
       "49997                     0      0         1             0  ...      0   \n",
       "49998                     0      0         1             0  ...      0   \n",
       "49999                     0      1         0             0  ...      0   \n",
       "\n",
       "       ProfileEmploymentLength  WebView  SecurityModal  ResendToken  \\\n",
       "0                            0        0              0            0   \n",
       "1                            0        0              0            0   \n",
       "2                            0        0              0            0   \n",
       "3                            0        0              0            0   \n",
       "4                            0        0              0            0   \n",
       "...                        ...      ...            ...          ...   \n",
       "49995                        0        1              0            0   \n",
       "49996                        0        0              0            0   \n",
       "49997                        0        0              0            0   \n",
       "49998                        0        0              0            0   \n",
       "49999                        0        0              0            0   \n",
       "\n",
       "       TransactionList  NetworkFailure  ListPicker  other  SavingsCount  \n",
       "0                    0               0           0      7             0  \n",
       "1                    0               0           0      5             0  \n",
       "2                    0               0           0      0             0  \n",
       "3                    0               0           0      6             0  \n",
       "4                    0               0           0     10             0  \n",
       "...                ...             ...         ...    ...           ...  \n",
       "49995                0               0           0      6             0  \n",
       "49996                0               0           0      1             0  \n",
       "49997                0               0           0      6             0  \n",
       "49998                0               0           0     13             0  \n",
       "49999                0               0           0      5             7  \n",
       "\n",
       "[50000 rows x 46 columns]"
      ]
     },
     "execution_count": 36,
     "metadata": {},
     "output_type": "execute_result"
    }
   ],
   "source": [
    "dataset.drop(columns=['enrolled'])"
   ]
  },
  {
   "cell_type": "code",
   "execution_count": 37,
   "id": "trying-worth",
   "metadata": {},
   "outputs": [],
   "source": [
    "from sklearn.model_selection import train_test_split"
   ]
  },
  {
   "cell_type": "code",
   "execution_count": 38,
   "id": "about-barbados",
   "metadata": {},
   "outputs": [],
   "source": [
    "x_train, x_test, y_train, y_test = train_test_split(dataset, response, test_size=0.2, random_state=0)"
   ]
  },
  {
   "cell_type": "code",
   "execution_count": 40,
   "id": "american-profession",
   "metadata": {},
   "outputs": [],
   "source": [
    "train_identifier = x_train['user']\n",
    "test_identifier = x_test['user']"
   ]
  },
  {
   "cell_type": "code",
   "execution_count": 42,
   "id": "weekly-plasma",
   "metadata": {},
   "outputs": [],
   "source": [
    "x_train = x_train.drop(columns='user')\n",
    "x_test = x_test.drop(columns='user')"
   ]
  },
  {
   "cell_type": "code",
   "execution_count": 43,
   "id": "competitive-depression",
   "metadata": {},
   "outputs": [],
   "source": [
    "from sklearn.preprocessing import StandardScaler"
   ]
  },
  {
   "cell_type": "code",
   "execution_count": 45,
   "id": "covered-habitat",
   "metadata": {},
   "outputs": [],
   "source": [
    "sc_x = StandardScaler()\n",
    "x_train2 = pd.DataFrame(sc_x.fit_transform(x_train))\n",
    "x_test2 = pd.DataFrame(sc_x.transform(x_test))"
   ]
  },
  {
   "cell_type": "code",
   "execution_count": 46,
   "id": "guilty-popularity",
   "metadata": {},
   "outputs": [],
   "source": [
    "x_train2.columns = x_train.columns.values\n",
    "x_test2.columns  = x_test.columns.values"
   ]
  },
  {
   "cell_type": "code",
   "execution_count": 47,
   "id": "fitted-china",
   "metadata": {},
   "outputs": [],
   "source": [
    "x_train2.index = x_train.index.values\n",
    "x_test2.index = x_test.index.values"
   ]
  },
  {
   "cell_type": "code",
   "execution_count": 48,
   "id": "dense-seller",
   "metadata": {},
   "outputs": [],
   "source": [
    "x_train = x_train2\n",
    "x_test = x_test2"
   ]
  },
  {
   "cell_type": "markdown",
   "id": "fancy-diesel",
   "metadata": {},
   "source": [
    "## BUILD THE MODEL"
   ]
  },
  {
   "cell_type": "code",
   "execution_count": 49,
   "id": "informal-circuit",
   "metadata": {},
   "outputs": [],
   "source": [
    "from sklearn.linear_model import LogisticRegression"
   ]
  },
  {
   "cell_type": "code",
   "execution_count": 51,
   "id": "involved-edgar",
   "metadata": {},
   "outputs": [],
   "source": [
    "classifier = LogisticRegression(random_state=0, penalty='L1')"
   ]
  },
  {
   "cell_type": "code",
   "execution_count": null,
   "id": "transsexual-planner",
   "metadata": {},
   "outputs": [],
   "source": []
  }
 ],
 "metadata": {
  "kernelspec": {
   "display_name": "Python 3",
   "language": "python",
   "name": "python3"
  },
  "language_info": {
   "codemirror_mode": {
    "name": "ipython",
    "version": 3
   },
   "file_extension": ".py",
   "mimetype": "text/x-python",
   "name": "python",
   "nbconvert_exporter": "python",
   "pygments_lexer": "ipython3",
   "version": "3.9.2"
  }
 },
 "nbformat": 4,
 "nbformat_minor": 5
}
