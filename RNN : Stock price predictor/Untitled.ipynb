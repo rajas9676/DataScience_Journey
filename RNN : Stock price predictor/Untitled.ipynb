{
 "cells": [
  {
   "cell_type": "code",
   "execution_count": 1,
   "id": "pressed-father",
   "metadata": {},
   "outputs": [],
   "source": [
    "import pandas as pd\n",
    "import numpy as np\n",
    "import matplotlib.pyplot as plt\n",
    "from sklearn.preprocessing import MinMaxScaler"
   ]
  },
  {
   "cell_type": "code",
   "execution_count": 2,
   "id": "working-riding",
   "metadata": {},
   "outputs": [],
   "source": [
    "data_train = pd.read_csv('Google_Stock_Price_Train.csv')\n",
    "training_set = data_train.iloc[:, 1:2].values"
   ]
  },
  {
   "cell_type": "code",
   "execution_count": 3,
   "id": "unauthorized-possible",
   "metadata": {},
   "outputs": [],
   "source": [
    "sc = MinMaxScaler(feature_range=(0, 1))\n",
    "training_scaled = sc.fit_transform(training_set)"
   ]
  },
  {
   "cell_type": "code",
   "execution_count": 4,
   "id": "brown-functionality",
   "metadata": {},
   "outputs": [],
   "source": [
    "X_train = []\n",
    "y_train = []\n",
    "for i in range(60, len(data_train)):\n",
    "    X_train.append(training_scaled[i-60:i, 0])\n",
    "    y_train.append(training_scaled[i, 0])\n",
    "X_train, y_train = np.array(X_train), np.array(y_train)"
   ]
  },
  {
   "cell_type": "code",
   "execution_count": 5,
   "id": "southern-damages",
   "metadata": {},
   "outputs": [],
   "source": [
    "X_train = np.reshape(X_train, (X_train.shape[0], X_train.shape[1], 1))"
   ]
  },
  {
   "cell_type": "code",
   "execution_count": 6,
   "id": "suitable-cambridge",
   "metadata": {},
   "outputs": [],
   "source": [
    "from keras.models import Sequential\n",
    "from keras.layers import Dense\n",
    "from keras.layers import LSTM\n",
    "from keras.layers import Dropout"
   ]
  },
  {
   "cell_type": "code",
   "execution_count": 7,
   "id": "occasional-reason",
   "metadata": {},
   "outputs": [],
   "source": [
    "regressor = Sequential()\n",
    "regressor.add(LSTM(units=50, return_sequences=True, input_shape=(X_train.shape[1], 1)))\n",
    "regressor.add(Dropout(0.2))\n",
    "regressor.add(LSTM(units=50, return_sequences=True))\n",
    "regressor.add(Dropout(0.2))\n",
    "regressor.add(LSTM(units=50, return_sequences=True))\n",
    "regressor.add(Dropout(0.2))\n",
    "regressor.add(LSTM(units=50, return_sequences=False))\n",
    "regressor.add(Dropout(0.2))\n",
    "regressor.add(Dense(units=1))"
   ]
  },
  {
   "cell_type": "code",
   "execution_count": 8,
   "id": "monetary-sculpture",
   "metadata": {},
   "outputs": [],
   "source": [
    "regressor.compile(optimizer='adam', loss='mean_squared_error', metrics=['accuracy'])"
   ]
  },
  {
   "cell_type": "code",
   "execution_count": 9,
   "id": "fewer-choir",
   "metadata": {},
   "outputs": [
    {
     "name": "stdout",
     "output_type": "stream",
     "text": [
      "Model: \"sequential\"\n",
      "_________________________________________________________________\n",
      "Layer (type)                 Output Shape              Param #   \n",
      "=================================================================\n",
      "lstm (LSTM)                  (None, 60, 50)            10400     \n",
      "_________________________________________________________________\n",
      "dropout (Dropout)            (None, 60, 50)            0         \n",
      "_________________________________________________________________\n",
      "lstm_1 (LSTM)                (None, 60, 50)            20200     \n",
      "_________________________________________________________________\n",
      "dropout_1 (Dropout)          (None, 60, 50)            0         \n",
      "_________________________________________________________________\n",
      "lstm_2 (LSTM)                (None, 60, 50)            20200     \n",
      "_________________________________________________________________\n",
      "dropout_2 (Dropout)          (None, 60, 50)            0         \n",
      "_________________________________________________________________\n",
      "lstm_3 (LSTM)                (None, 50)                20200     \n",
      "_________________________________________________________________\n",
      "dropout_3 (Dropout)          (None, 50)                0         \n",
      "_________________________________________________________________\n",
      "dense (Dense)                (None, 1)                 51        \n",
      "=================================================================\n",
      "Total params: 71,051\n",
      "Trainable params: 71,051\n",
      "Non-trainable params: 0\n",
      "_________________________________________________________________\n"
     ]
    }
   ],
   "source": [
    "regressor.summary()"
   ]
  },
  {
   "cell_type": "code",
   "execution_count": null,
   "id": "sonic-appreciation",
   "metadata": {},
   "outputs": [
    {
     "name": "stdout",
     "output_type": "stream",
     "text": [
      "Epoch 1/100\n",
      "38/38 [==============================] - 24s 203ms/step - loss: 0.0749 - accuracy: 0.0033\n",
      "Epoch 2/100\n",
      "38/38 [==============================] - 8s 208ms/step - loss: 0.0072 - accuracy: 5.7470e-04\n",
      "Epoch 3/100\n",
      "38/38 [==============================] - 8s 208ms/step - loss: 0.0059 - accuracy: 0.0024\n",
      "Epoch 4/100\n",
      "38/38 [==============================] - 8s 208ms/step - loss: 0.0048 - accuracy: 0.0023\n",
      "Epoch 5/100\n",
      "38/38 [==============================] - 8s 206ms/step - loss: 0.0051 - accuracy: 4.9966e-04\n",
      "Epoch 6/100\n",
      "38/38 [==============================] - 8s 208ms/step - loss: 0.0043 - accuracy: 0.0028\n",
      "Epoch 7/100\n",
      "38/38 [==============================] - 8s 206ms/step - loss: 0.0049 - accuracy: 0.0014\n",
      "Epoch 8/100\n",
      "38/38 [==============================] - 8s 203ms/step - loss: 0.0041 - accuracy: 0.0012\n",
      "Epoch 9/100\n",
      "38/38 [==============================] - 8s 204ms/step - loss: 0.0047 - accuracy: 4.3852e-04\n",
      "Epoch 10/100\n",
      "38/38 [==============================] - 7s 191ms/step - loss: 0.0042 - accuracy: 0.0020\n",
      "Epoch 11/100\n",
      "38/38 [==============================] - 8s 205ms/step - loss: 0.0039 - accuracy: 0.0015\n",
      "Epoch 12/100\n",
      "38/38 [==============================] - 8s 199ms/step - loss: 0.0044 - accuracy: 9.0408e-04\n",
      "Epoch 13/100\n",
      "38/38 [==============================] - 8s 218ms/step - loss: 0.0046 - accuracy: 0.0020\n",
      "Epoch 14/100\n",
      "38/38 [==============================] - 8s 202ms/step - loss: 0.0041 - accuracy: 8.0178e-04\n",
      "Epoch 15/100\n",
      "38/38 [==============================] - 8s 204ms/step - loss: 0.0046 - accuracy: 6.4311e-04\n",
      "Epoch 16/100\n",
      "38/38 [==============================] - 8s 216ms/step - loss: 0.0046 - accuracy: 0.0011\n",
      "Epoch 17/100\n",
      "38/38 [==============================] - 8s 213ms/step - loss: 0.0031 - accuracy: 0.0015\n",
      "Epoch 18/100\n",
      "38/38 [==============================] - 8s 213ms/step - loss: 0.0040 - accuracy: 4.7845e-04\n",
      "Epoch 19/100\n",
      "38/38 [==============================] - 8s 204ms/step - loss: 0.0030 - accuracy: 0.0018\n",
      "Epoch 20/100\n",
      "38/38 [==============================] - 7s 181ms/step - loss: 0.0036 - accuracy: 0.0016\n",
      "Epoch 21/100\n",
      "38/38 [==============================] - 10s 277ms/step - loss: 0.0036 - accuracy: 8.2941e-04\n",
      "Epoch 22/100\n",
      "10/38 [======>.......................] - ETA: 5s - loss: 0.0034 - accuracy: 0.0000e+00"
     ]
    }
   ],
   "source": [
    "regressor.fit(X_train, y_train, epochs=100, batch_size=32)"
   ]
  },
  {
   "cell_type": "code",
   "execution_count": null,
   "id": "sixth-peripheral",
   "metadata": {},
   "outputs": [],
   "source": []
  }
 ],
 "metadata": {
  "kernelspec": {
   "display_name": "Python 3",
   "language": "python",
   "name": "python3"
  },
  "language_info": {
   "codemirror_mode": {
    "name": "ipython",
    "version": 3
   },
   "file_extension": ".py",
   "mimetype": "text/x-python",
   "name": "python",
   "nbconvert_exporter": "python",
   "pygments_lexer": "ipython3",
   "version": "3.9.2"
  }
 },
 "nbformat": 4,
 "nbformat_minor": 5
}
